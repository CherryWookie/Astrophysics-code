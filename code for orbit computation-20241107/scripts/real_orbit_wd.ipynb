{
 "cells": [
  {
   "cell_type": "code",
   "execution_count": 1,
   "metadata": {
    "id": "UoXmbFTZ9Hml"
   },
   "outputs": [],
   "source": [
    "\n",
    "import numpy as np\n",
    "import pylab as pl\n",
    "import astropy\n",
    "import galpy\n",
    "import astropy.units as u\n",
    "from galpy.orbit import Orbit\n",
    "import galpy.util.coords as coords\n",
    "from galpy.potential import MWPotential2014\n",
    "\n"
   ]
  },
  {
   "cell_type": "markdown",
   "metadata": {
    "id": "JLPk4RlUvEyK"
   },
   "source": [
    "\n",
    "Loading the CSV file into a python array. The CSV file is the Gaia 100-pc white dwarf sample that was classified by [Torres et al. 2019, MNRAS, 485, 5573-5589](https://ui.adsabs.harvard.edu/abs/2019MNRAS.485.5573T/abstract)) with a random forest algorithm."
   ]
  },
  {
   "cell_type": "code",
   "execution_count": null,
   "metadata": {
    "colab": {
     "base_uri": "https://localhost:8080/",
     "height": 495
    },
    "executionInfo": {
     "elapsed": 684,
     "status": "error",
     "timestamp": 1730366443189,
     "user": {
      "displayName": "Roberto Raddi",
      "userId": "02496214653441775378"
     },
     "user_tz": -60
    },
    "id": "zXig4dLTo0yy",
    "outputId": "31961b7a-cb6f-48c5-9228-41b689859fc3"
   },
   "outputs": [],
   "source": [
    "np.random.seed(0)\n",
    "\n",
    "# for local files, just use this function #\n",
    "R = np.genfromtxt('../data/Gaia_100pcWD.csv', delimiter=',', names=True, dtype=None, encoding=\"ASCII\")\n",
    "print(R.dtype)\n",
    "\n",
    "# masking the galactic components by using the lable defined by Torres et al.\n",
    "mask_thin = np.where(R['Ilabel_0thin1thick2halo']==0)\n",
    "mask_thick = np.where(R['Ilabel_0thin1thick2halo']==1)\n",
    "mask_halo = np.where(R['Ilabel_0thin1thick2halo']==2)\n",
    "\n"
   ]
  },
  {
   "cell_type": "markdown",
   "metadata": {
    "id": "reYRkq43-PuJ"
   },
   "source": [
    "We create three orbits for thin-disk, thick-disk, and halo white dwarfs, respectively. Then we create an array of timesteps\n",
    "And finally we integrate the orbits."
   ]
  },
  {
   "cell_type": "code",
   "execution_count": null,
   "metadata": {
    "colab": {
     "base_uri": "https://localhost:8080/"
    },
    "executionInfo": {
     "elapsed": 701,
     "status": "ok",
     "timestamp": 1698307173749,
     "user": {
      "displayName": "Roberto Raddi",
      "userId": "09936951383882269595"
     },
     "user_tz": -120
    },
    "id": "gsgD_Ayx9ac2",
    "outputId": "761e7044-f3e9-4ae5-8329-8596a71ba63f"
   },
   "outputs": [
    {
     "name": "stderr",
     "output_type": "stream",
     "text": [
      " 60%|███████████████████████▏               | 2977/5000 [00:59<01:06, 30.25it/s]"
     ]
    }
   ],
   "source": [
    "R0, z0, V0, v_sun = 8.122*u.kpc, 0.0208*u.kpc, 235.*u.km/u.s, [12.9, 10.6, 7.78]*u.km / u.s\n",
    "\n",
    "star_thin = R[mask_thin]\n",
    "star_thick = R[mask_thick]\n",
    "star_halo = R[mask_halo]\n",
    "\n",
    "\n",
    "ts = np.linspace(0,0.125,10000)*u.Gyr\n",
    "\n",
    "o_thin = Orbit([star_thin['RA_deg'][0],star_thin['DEC_deg'][0],1/star_thin['parallax_mas'][0],\n",
    "                star_thin['pmramasyr'][0],star_thin['pmdec_masyr'][0], 0.],\n",
    "                 radec=True, ro=R0, zo=z0, vo=V0, solarmotion=v_sun)\n",
    "o_thin.integrate(ts,MWPotential2014)\n",
    "\n",
    "o_thick = Orbit([star_thick['RA_deg'][10],star_thick['DEC_deg'][10],1/star_thick['parallax_mas'][10],\n",
    "                star_thick['pmramasyr'][10],star_thick['pmdec_masyr'][10], 0.],\n",
    "                 radec=True, ro=R0, zo=z0, vo=V0, solarmotion=v_sun)\n",
    "o_thick.integrate(ts,MWPotential2014)\n",
    "\n",
    "o_halo = Orbit([star_halo['RA_deg'][-1],star_halo['DEC_deg'][-1],1/star_halo['parallax_mas'][-1],\n",
    "                star_halo['pmramasyr'][-1],star_halo['pmdec_masyr'][-1], 0.],\n",
    "                 radec=True, ro=R0, zo=z0, vo=V0, solarmotion=v_sun)\n",
    "o_halo.integrate(ts,MWPotential2014)\n",
    "\n",
    "### integrate all ###\n",
    "a_thin = Orbit([star_thin['RA_deg'][0:5000],star_thin['DEC_deg'][0:5000],1/star_thin['parallax_mas'][0:5000],\n",
    "                star_thin['pmramasyr'][0:5000],star_thin['pmdec_masyr'][0:5000], np.zeros(len(star_thin[0:5000]))],\n",
    "                 radec=True, ro=R0, zo=z0, vo=V0, solarmotion=v_sun)\n",
    "a_thin.integrate(ts,MWPotential2014)\n",
    "\n",
    "a_thick = Orbit([star_thick['RA_deg'],star_thick['DEC_deg'],1/star_thick['parallax_mas'],\n",
    "                star_thick['pmramasyr'],star_thick['pmdec_masyr'], np.zeros(len(star_thick))],\n",
    "                 radec=True, ro=R0, zo=z0, vo=V0, solarmotion=v_sun)\n",
    "a_thick.integrate(ts,MWPotential2014)\n",
    "\n",
    "a_halo = Orbit([star_halo['RA_deg'],star_halo['DEC_deg'],1/star_halo['parallax_mas'],\n",
    "                star_halo['pmramasyr'],star_halo['pmdec_masyr'], np.zeros(len(star_halo))],\n",
    "                 radec=True, ro=R0, zo=z0, vo=V0, solarmotion=v_sun)\n",
    "a_halo.integrate(ts,MWPotential2014)\n",
    "\n",
    "\n",
    "# printing eccentricity and angular momentum (z component)\n",
    "print('e = ', round(o_thin.e(),3), 'Lz = ', o_thin.Lz(quantity=True))\n",
    "print('e = ', round(o_thick.e(),3), 'Lz = ', o_thick.Lz(quantity=True))\n",
    "print('e = ', round(o_halo.e(),3), 'Lz = ', o_halo.Lz(quantity=True))\n"
   ]
  },
  {
   "cell_type": "markdown",
   "metadata": {
    "id": "hKrHLA04v3Zm"
   },
   "source": [
    "Plotting the Toomre diagram of the Full sample."
   ]
  },
  {
   "cell_type": "code",
   "execution_count": null,
   "metadata": {
    "colab": {
     "base_uri": "https://localhost:8080/",
     "height": 746
    },
    "executionInfo": {
     "elapsed": 1023,
     "status": "ok",
     "timestamp": 1698307210230,
     "user": {
      "displayName": "Roberto Raddi",
      "userId": "09936951383882269595"
     },
     "user_tz": -120
    },
    "id": "XrXIS0VM6dWI",
    "outputId": "ef2a0c89-3890-4e2d-bee1-73113f46df04"
   },
   "outputs": [],
   "source": [
    "\n",
    "fig = pl.figure(figsize=(7,7))\n",
    "fig.subplots_adjust(wspace=0.3)\n",
    "ax1 = fig.add_subplot(111)\n",
    "\n",
    "ax1.plot(star_halo['V_kms'],np.sqrt(star_halo['U_kms']**2 + star_halo['W_kms']), marker='.', ms=3, ls='none', label='halo')\n",
    "ax1.plot(star_thick['V_kms'],np.sqrt(star_thick['U_kms']**2 + star_thick['W_kms']), marker='.', ms=3, ls='none', label='thick disk')\n",
    "ax1.plot(star_thin['V_kms'],np.sqrt(star_thin['U_kms']**2 + star_thin['W_kms']), marker='.', ms=3, ls='none', label='thin disk')\n",
    "\n",
    "ax1.set_xlabel(r'$V_{\\rm LSR}$ [km/s]')\n",
    "ax1.set_ylabel(r'$\\sqrt{U^2_{\\rm LSR} + W^2_{\\rm LSR}}$ [km/s]')\n",
    "\n",
    "pl.legend(frameon=False)\n",
    "\n",
    "\n",
    "pl.show()\n"
   ]
  },
  {
   "cell_type": "markdown",
   "metadata": {
    "id": "dNfhtzms-n5g"
   },
   "source": [
    "Plotting the orbits"
   ]
  },
  {
   "cell_type": "code",
   "execution_count": null,
   "metadata": {
    "colab": {
     "base_uri": "https://localhost:8080/",
     "height": 420
    },
    "executionInfo": {
     "elapsed": 998,
     "status": "ok",
     "timestamp": 1698307259228,
     "user": {
      "displayName": "Roberto Raddi",
      "userId": "09936951383882269595"
     },
     "user_tz": -120
    },
    "id": "nZLycMQL-oSo",
    "outputId": "b3ff57dd-ddf5-4544-fa48-6eac4dc041cc"
   },
   "outputs": [],
   "source": [
    "fig = pl.figure(figsize=(14,6))\n",
    "fig.subplots_adjust(wspace=0.3)\n",
    "ax1 = fig.add_subplot(121)\n",
    "\n",
    "ax1.plot(o_halo.R(ts,quantity=True),o_halo.z(ts,quantity=True))\n",
    "ax1.plot(o_thick.R(ts,quantity=True),o_thick.z(ts,quantity=True))\n",
    "ax1.plot(o_thin.R(ts,quantity=True),o_thin.z(ts,quantity=True))\n",
    "\n",
    "\n",
    "ax1.set_xlabel('R [kpc]')\n",
    "ax1.set_ylabel('Z [kpc]')\n",
    "\n",
    "\n",
    "ax2 = fig.add_subplot(122)\n",
    "\n",
    "ax2.plot(o_halo.y(ts,quantity=True),o_halo.x(ts,quantity=True), label='halo')\n",
    "ax2.plot(o_thick.y(ts,quantity=True),o_thick.x(ts,quantity=True), label='thick disk')\n",
    "ax2.plot(o_thin.y(ts,quantity=True),o_thin.x(ts,quantity=True), label='thin disk')\n",
    "\n",
    "ax2.set_xlabel('Y [kpc]')\n",
    "ax2.set_ylabel('X [kpc]')\n",
    "\n",
    "pl.legend(frameon=False)\n",
    "\n",
    "ax2.invert_xaxis()\n",
    "ax2.invert_yaxis()\n",
    "pl.show()\n"
   ]
  },
  {
   "cell_type": "code",
   "execution_count": null,
   "metadata": {
    "colab": {
     "base_uri": "https://localhost:8080/",
     "height": 427
    },
    "executionInfo": {
     "elapsed": 851,
     "status": "ok",
     "timestamp": 1698307282689,
     "user": {
      "displayName": "Roberto Raddi",
      "userId": "09936951383882269595"
     },
     "user_tz": -120
    },
    "id": "nXuR4rB2FpBP",
    "outputId": "ec9e050e-a654-43f3-fe8b-27fbd1e1e9d1"
   },
   "outputs": [],
   "source": [
    "fig = pl.figure(figsize=(5,5))\n",
    "fig.subplots_adjust(wspace=0.3)\n",
    "ax1 = fig.add_subplot(projection='3d')\n",
    "\n",
    "ax1.plot(o_halo.y(ts,quantity=True),o_halo.x(ts,quantity=True), o_halo.x(ts,quantity=True), label='halo')\n",
    "ax1.plot(o_thick.y(ts,quantity=True),o_thick.x(ts,quantity=True), o_thick.x(ts,quantity=True), label='thick disk')\n",
    "ax1.plot(o_thin.y(ts,quantity=True),o_thin.x(ts,quantity=True), o_thin.x(ts,quantity=True), label='thin disk')\n",
    "\n",
    "\n",
    "ax1.set_xlabel('Y [kpc]')\n",
    "ax1.set_ylabel('X [kpc]')\n",
    "ax1.set_zlabel('Z [kpc]')\n",
    "\n",
    "ax1.invert_xaxis()\n",
    "ax1.invert_yaxis()\n",
    "pl.show()"
   ]
  },
  {
   "cell_type": "markdown",
   "metadata": {},
   "source": [
    "Plotting vertical component of angular momentum (Lz) vs orbital eccentricity."
   ]
  },
  {
   "cell_type": "code",
   "execution_count": null,
   "metadata": {},
   "outputs": [],
   "source": [
    "\n",
    "fig = pl.figure(figsize=(7,7))\n",
    "fig.subplots_adjust(wspace=0.3)\n",
    "ax1 = fig.add_subplot(111)\n",
    "\n",
    "ax1.plot(a_thin.e(),a_thin.Lz(), marker='.', ms=3, ls='none', label='Halo')\n",
    "ax1.plot(a_thick.e(),a_thick.Lz(), marker='.', ms=3, ls='none', label='Thick Disk')\n",
    "ax1.plot(a_halo.e(),a_halo.Lz(), marker='.', ms=3, ls='none', label='Thin Disk')\n",
    "\n",
    "ax1.set_xlabel(r'$e$')\n",
    "ax1.set_ylabel(r'$L_z$ [kpc\\,km/s$^2$]')\n",
    "\n",
    "pl.legend(frameon=False)\n",
    "\n",
    "\n",
    "pl.show()"
   ]
  },
  {
   "cell_type": "markdown",
   "metadata": {
    "id": "AENXDkSaEFIJ"
   },
   "source": [
    "Integrating for longer and plotting the orbits"
   ]
  },
  {
   "cell_type": "code",
   "execution_count": null,
   "metadata": {
    "colab": {
     "base_uri": "https://localhost:8080/",
     "height": 423
    },
    "executionInfo": {
     "elapsed": 1785,
     "status": "ok",
     "timestamp": 1698307290039,
     "user": {
      "displayName": "Roberto Raddi",
      "userId": "09936951383882269595"
     },
     "user_tz": -120
    },
    "id": "lihC9VTrEIoa",
    "outputId": "7da523e2-a45b-4937-a0a8-dded5c367338"
   },
   "outputs": [],
   "source": [
    "ts = np.linspace(0,5,10000)*u.Gyr\n",
    "\n",
    "\n",
    "o_thin.integrate(ts,MWPotential2014)\n",
    "\n",
    "o_thick.integrate(ts,MWPotential2014)\n",
    "\n",
    "o_halo.integrate(ts,MWPotential2014)\n",
    "\n",
    "\n",
    "\n",
    "fig = pl.figure(figsize=(14,6))\n",
    "fig.subplots_adjust(wspace=0.3)\n",
    "ax1 = fig.add_subplot(121)\n",
    "\n",
    "ax1.plot(o_halo.R(ts,quantity=True),o_halo.z(ts,quantity=True))\n",
    "ax1.plot(o_thick.R(ts,quantity=True),o_thick.z(ts,quantity=True))\n",
    "ax1.plot(o_thin.R(ts,quantity=True),o_thin.z(ts,quantity=True))\n",
    "\n",
    "ax1.set_xlabel('R [kpc]')\n",
    "ax1.set_ylabel('Z [kpc]')\n",
    "\n",
    "\n",
    "ax2 = fig.add_subplot(122)\n",
    "\n",
    "ax2.plot(o_halo.y(ts,quantity=True),o_halo.x(ts,quantity=True), label='halo')\n",
    "ax2.plot(o_thick.y(ts,quantity=True),o_thick.x(ts,quantity=True), label='thick disk')\n",
    "ax2.plot(o_thin.y(ts,quantity=True),o_thin.x(ts,quantity=True), label='thin disk')\n",
    "\n",
    "ax2.set_xlabel('Y [kpc]')\n",
    "ax2.set_ylabel('X [kpc]')\n",
    "\n",
    "pl.legend(frameon=False)\n",
    "\n",
    "ax2.invert_yaxis()\n",
    "pl.show()\n",
    "\n",
    "\n"
   ]
  },
  {
   "cell_type": "markdown",
   "metadata": {
    "id": "XPVZJ5skIYE4"
   },
   "source": [
    "Plotting the Galactic radial velocity component:"
   ]
  },
  {
   "cell_type": "code",
   "execution_count": null,
   "metadata": {
    "colab": {
     "base_uri": "https://localhost:8080/",
     "height": 619
    },
    "executionInfo": {
     "elapsed": 703,
     "status": "ok",
     "timestamp": 1698061180199,
     "user": {
      "displayName": "Roberto Raddi",
      "userId": "09936951383882269595"
     },
     "user_tz": -120
    },
    "id": "Bii6ApTdIauo",
    "outputId": "464a9eab-858e-4f78-9cd9-f06aa9e01c1c"
   },
   "outputs": [],
   "source": [
    "fig = pl.figure(figsize=(7,7))\n",
    "fig.subplots_adjust(wspace=0.3)\n",
    "ax1 = fig.add_subplot(111)\n",
    "\n",
    "ax1.plot(o_halo.R(ts,quantity=True),o_halo.vR(ts,quantity=True), label='halo')\n",
    "ax1.plot(o_thick.R(ts,quantity=True),o_thick.vR(ts,quantity=True), label='thick disk')\n",
    "ax1.plot(o_thin.R(ts,quantity=True),o_thin.vR(ts,quantity=True), label='thin disk')\n",
    "\n",
    "pl.legend(frameon=False)\n",
    "\n",
    "ax1.set_xlabel('R [kpc]')\n",
    "ax1.set_ylabel('vR [km/s]')\n",
    "pl.show()"
   ]
  },
  {
   "cell_type": "code",
   "execution_count": null,
   "metadata": {},
   "outputs": [],
   "source": []
  },
  {
   "cell_type": "code",
   "execution_count": null,
   "metadata": {},
   "outputs": [],
   "source": []
  }
 ],
 "metadata": {
  "colab": {
   "provenance": []
  },
  "kernelspec": {
   "display_name": "Python 3 (ipykernel)",
   "language": "python",
   "name": "python3"
  },
  "language_info": {
   "codemirror_mode": {
    "name": "ipython",
    "version": 3
   },
   "file_extension": ".py",
   "mimetype": "text/x-python",
   "name": "python",
   "nbconvert_exporter": "python",
   "pygments_lexer": "ipython3",
   "version": "3.11.8"
  }
 },
 "nbformat": 4,
 "nbformat_minor": 4
}
